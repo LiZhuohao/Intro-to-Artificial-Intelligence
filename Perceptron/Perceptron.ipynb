{
 "cells": [
  {
   "cell_type": "code",
   "execution_count": 3,
   "metadata": {},
   "outputs": [
    {
     "name": "stdout",
     "output_type": "stream",
     "text": [
      "100.0 % classified correctly\n"
     ]
    }
   ],
   "source": [
    "import numpy\n",
    "\n",
    "#perceptron\n",
    "def perceptron_training(instance):\n",
    "    if numpy.dot(instance.features, instance.weights) > 0:\n",
    "        instance.predicted_value = 1\n",
    "    else :\n",
    "        instance.predicted_value = 0\n",
    "    for i in range(1, len(instance.weights)):\n",
    "        instance.weights[i] += instance.learning_rate * (instance.classification - instance.predicted_value) * instance.features[i]\n",
    "    instance.weights[0] += instance.learning_rate * (instance.classification - instance.predicted_value)\n",
    "\n",
    "#main\n",
    "def main():\n",
    "    #read \"dataset\" file\n",
    "    instances = list()\n",
    "    #data = open(\"dataset\")\n",
    "    with open(\"dataset\") as data:\n",
    "        lines = [line.rstrip() for line in data]\n",
    "    #construct instances\n",
    "    for line in lines[1:]:\n",
    "        attributes = line.split()\n",
    "        instance = Instance(int(attributes[len(attributes)-1]), numpy.zeros(len(attributes)))\n",
    "        instance.features[0] = 1  #bias\n",
    "        for i in range(len(attributes)-1):\n",
    "            instance.features[i+1] = attributes[i]\n",
    "        instance.weights = numpy.zeros(len(instance.features))\n",
    "        instances.append(instance)\n",
    "\n",
    "    #classify\n",
    "    count = 0\n",
    "    for instance in instances:\n",
    "        for _ in range(100):\n",
    "            perceptron_training(instance)\n",
    "        if instance.predicted_value == instance.classification: count += 1\n",
    "    print(count/len(instances)*100, \"% classified correctly\")\n",
    "\n",
    "if __name__ == \"__main__\":    \n",
    "    #construct instance\n",
    "    class Instance:\n",
    "        def __init__(self, classification, features):\n",
    "            self.classification = classification\n",
    "            self.predicted_value = None\n",
    "            self.learning_rate = 0.01\n",
    "            self.features = features\n",
    "            self.weights = None\n",
    "    main()"
   ]
  }
 ],
 "metadata": {
  "kernelspec": {
   "display_name": "Python 3",
   "language": "python",
   "name": "python3"
  },
  "language_info": {
   "codemirror_mode": {
    "name": "ipython",
    "version": 3
   },
   "file_extension": ".py",
   "mimetype": "text/x-python",
   "name": "python",
   "nbconvert_exporter": "python",
   "pygments_lexer": "ipython3",
   "version": "3.7.1"
  }
 },
 "nbformat": 4,
 "nbformat_minor": 2
}
