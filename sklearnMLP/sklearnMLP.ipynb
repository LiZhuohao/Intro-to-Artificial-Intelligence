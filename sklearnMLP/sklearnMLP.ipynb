{
 "cells": [
  {
   "cell_type": "code",
   "execution_count": 1,
   "metadata": {},
   "outputs": [
    {
     "name": "stdout",
     "output_type": "stream",
     "text": [
      "              precision    recall  f1-score   support\n",
      "\n",
      "           1       0.97      0.97      0.97        30\n",
      "           2       0.94      0.91      0.93        35\n",
      "           3       0.92      0.96      0.94        24\n",
      "\n",
      "   micro avg       0.94      0.94      0.94        89\n",
      "   macro avg       0.94      0.95      0.94        89\n",
      "weighted avg       0.94      0.94      0.94        89\n",
      "\n"
     ]
    },
    {
     "name": "stderr",
     "output_type": "stream",
     "text": [
      "C:\\ProgramData\\Anaconda3\\lib\\site-packages\\sklearn\\neural_network\\multilayer_perceptron.py:562: ConvergenceWarning: Stochastic Optimizer: Maximum iterations (100) reached and the optimization hasn't converged yet.\n",
      "  % self.max_iter, ConvergenceWarning)\n"
     ]
    }
   ],
   "source": [
    "import pandas as pd\n",
    "from sklearn.neural_network import MLPClassifier\n",
    "from sklearn.preprocessing import StandardScaler\n",
    "from sklearn.metrics import classification_report\n",
    "\n",
    "#main\n",
    "if __name__ == \"__main__\":\n",
    "    # read training & test files, seperate by space\n",
    "    train_set = pd.read_csv(\"wine_training\", sep=\" \")\n",
    "    test_set = pd.read_csv(\"wine_test\", sep=\" \")\n",
    "    \n",
    "    # MLP trains on x(feature vectors) & y(classe labels) arrays\n",
    "    x_train = train_set.drop(\"Class\", axis=1)\n",
    "    y_train = train_set[\"Class\"]\n",
    "    x_test = test_set.drop(\"Class\", axis=1)\n",
    "    y_test = test_set[\"Class\"]\n",
    "    \n",
    "    # fit only on training data\n",
    "    scaler = StandardScaler().fit(x_train)\n",
    "    x_train = scaler.transform(x_train)\n",
    "    # apply same transformation to test data\n",
    "    x_test = scaler.transform(x_test)\n",
    "    \n",
    "    # train a model\n",
    "    mlp = MLPClassifier(max_iter=100)\n",
    "    mlp.fit(x_train, y_train)\n",
    "    \n",
    "    # mlp prediction\n",
    "    prediction = mlp.predict(x_test)\n",
    "    \n",
    "    print(classification_report(y_test, prediction))"
   ]
  }
 ],
 "metadata": {
  "kernelspec": {
   "display_name": "Python 3",
   "language": "python",
   "name": "python3"
  },
  "language_info": {
   "codemirror_mode": {
    "name": "ipython",
    "version": 3
   },
   "file_extension": ".py",
   "mimetype": "text/x-python",
   "name": "python",
   "nbconvert_exporter": "python",
   "pygments_lexer": "ipython3",
   "version": "3.7.1"
  }
 },
 "nbformat": 4,
 "nbformat_minor": 2
}
